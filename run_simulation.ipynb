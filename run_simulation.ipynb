{
 "cells": [
  {
   "cell_type": "code",
   "execution_count": 4,
   "id": "437a131f",
   "metadata": {},
   "outputs": [],
   "source": [
    "# Run an oxpy simulation from the main jupyter thread.\n",
    "import oxpy\n",
    "with oxpy.Context():\n",
    "    manager = oxpy.OxpyManager('sim0/input')\n",
    "    manager.run_complete()\n",
    "    \n",
    "# After running this, check nvidia-smi, there will be a python process remaining on the GPU\n",
    "# It cannot be killed using `kill pid` from the command line\n",
    "# Running `kill -9 pid` will also kill the Jupyter kernel."
   ]
  },
  {
   "cell_type": "code",
   "execution_count": 10,
   "id": "117e867c",
   "metadata": {},
   "outputs": [],
   "source": [
    "# Function to pass to the pool\n",
    "import oxpy\n",
    "import multiprocessing as mp\n",
    "\n",
    "def launch(inp):\n",
    "    print(\"running:\", inp, flush=True)\n",
    "    with oxpy.Context():\n",
    "        manager = oxpy.OxpyManager(inp)\n",
    "        manager.run_complete()"
   ]
  },
  {
   "cell_type": "code",
   "execution_count": 11,
   "id": "f430a798",
   "metadata": {},
   "outputs": [
    {
     "name": "stdout",
     "output_type": "stream",
     "text": [
      "running: sim0/input\n"
     ]
    }
   ],
   "source": [
    "# Run an oxpy simulation in a separate process\n",
    "pool = mp.Pool(1)\n",
    "\n",
    "try:\n",
    "    response = [pool.apply_async(launch, (i,)) for i in ['sim0/input']]\n",
    "    for i, r in enumerate(response):\n",
    "        try:\n",
    "            r.get(100000000)\n",
    "        except KeyboardInterrupt:\n",
    "            print(\"Caught KeyboardInterrupt1, terminating workers\")\n",
    "            pool.terminate()\n",
    "            break\n",
    "        except Exception as e:\n",
    "            print(\"Error in simulation\", i)\n",
    "            print(\"Error was:\", e)\n",
    "            continue\n",
    "        \n",
    "except KeyboardInterrupt:\n",
    "    print(\"Caught KeyboardInterrupt2, terminating workers\")\n",
    "    pool.terminate()\n",
    "    pool.close()\n",
    "    \n",
    "pool.close()\n",
    "\n",
    "# After running this normally, check nvidia-smi, you will not find the process\n",
    "# If you're fast, you can interrupt the kernel while the simulation is running\n",
    "# You have to do it twice to stop it (because of the subprocess?)\n",
    "# If you stop it before the simulation finishes, there will be a zombie process left on the GPU.\n",
    "# If you need more time, increase the `steps` parameter in `sim0/input`"
   ]
  },
  {
   "cell_type": "code",
   "execution_count": null,
   "id": "ec1925b3",
   "metadata": {},
   "outputs": [],
   "source": []
  },
  {
   "cell_type": "code",
   "execution_count": null,
   "id": "5466da7b",
   "metadata": {},
   "outputs": [],
   "source": []
  }
 ],
 "metadata": {
  "kernelspec": {
   "display_name": "Python 3 (ipykernel)",
   "language": "python",
   "name": "python3"
  },
  "language_info": {
   "codemirror_mode": {
    "name": "ipython",
    "version": 3
   },
   "file_extension": ".py",
   "mimetype": "text/x-python",
   "name": "python",
   "nbconvert_exporter": "python",
   "pygments_lexer": "ipython3",
   "version": "3.9.7"
  }
 },
 "nbformat": 4,
 "nbformat_minor": 5
}
